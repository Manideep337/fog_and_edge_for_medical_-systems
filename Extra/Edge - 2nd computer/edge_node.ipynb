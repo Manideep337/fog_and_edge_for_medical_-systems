{
 "cells": [
  {
   "cell_type": "code",
   "execution_count": 1,
   "metadata": {
    "collapsed": true,
    "ExecuteTime": {
     "end_time": "2023-07-21T17:22:24.375768Z",
     "start_time": "2023-07-21T17:22:24.368313Z"
    }
   },
   "outputs": [],
   "source": [
    "# edge_node.py\n",
    "\n",
    "import socket\n",
    "import pickle\n",
    "\n",
    "def send_data_to_fog(data):\n",
    "    HOST = '172.20.10.6'  # Fog node IP address or hostname\n",
    "    PORT = 8888        # Fog node port number\n",
    "\n",
    "    with socket.socket(socket.AF_INET, socket.SOCK_STREAM) as s:\n",
    "        s.connect((HOST, PORT))\n",
    "        data_bytes = pickle.dumps(data)\n",
    "        s.sendall(data_bytes)\n",
    "\n",
    "        result_bytes = s.recv(1024)\n",
    "        result = pickle.loads(result_bytes)\n",
    "        return result\n"
   ]
  },
  {
   "cell_type": "code",
   "execution_count": 1,
   "outputs": [],
   "source": [],
   "metadata": {
    "collapsed": false,
    "ExecuteTime": {
     "end_time": "2023-07-21T17:22:24.404642Z",
     "start_time": "2023-07-21T17:22:24.377472Z"
    }
   }
  }
 ],
 "metadata": {
  "kernelspec": {
   "display_name": "Python 3",
   "language": "python",
   "name": "python3"
  },
  "language_info": {
   "codemirror_mode": {
    "name": "ipython",
    "version": 2
   },
   "file_extension": ".py",
   "mimetype": "text/x-python",
   "name": "python",
   "nbconvert_exporter": "python",
   "pygments_lexer": "ipython2",
   "version": "2.7.6"
  }
 },
 "nbformat": 4,
 "nbformat_minor": 0
}
