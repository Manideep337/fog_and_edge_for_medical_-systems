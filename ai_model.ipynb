{
 "cells": [
  {
   "cell_type": "code",
   "execution_count": 3,
   "metadata": {
    "collapsed": true,
    "ExecuteTime": {
     "end_time": "2023-07-21T17:45:18.060177Z",
     "start_time": "2023-07-21T17:45:17.981209Z"
    }
   },
   "outputs": [
    {
     "name": "stdout",
     "output_type": "stream",
     "text": [
      "Model and label encoders saved successfully.\n"
     ]
    }
   ],
   "source": [
    "import pandas as pd\n",
    "from sklearn.ensemble import RandomForestClassifier\n",
    "from sklearn.model_selection import train_test_split\n",
    "from sklearn.preprocessing import LabelEncoder\n",
    "import joblib\n",
    "\n",
    "# Load the dataset (replace 'your_dataset_file.csv' with the actual file path)\n",
    "def load_dataset():\n",
    "    dataset_file = \"dataset.csv\"\n",
    "    return pd.read_csv(dataset_file)\n",
    "\n",
    "def train_and_save_model():\n",
    "    # Load the dataset\n",
    "    df = load_dataset()\n",
    "\n",
    "    # Data preprocessing\n",
    "    X = df.drop(\"Sleep Disorder\", axis=1)\n",
    "    y = df[\"Sleep Disorder\"]\n",
    "\n",
    "    # Perform label encoding for categorical attributes\n",
    "    label_encoders = {}\n",
    "    for column in X.columns:\n",
    "        if X[column].dtype == 'object':\n",
    "            le = LabelEncoder()\n",
    "            X[column] = le.fit_transform(X[column])\n",
    "            label_encoders[column] = le\n",
    "\n",
    "    # Split the data into training and testing sets\n",
    "    X_train, X_test, y_train, y_test = train_test_split(X, y, test_size=0.2, random_state=42)\n",
    "\n",
    "    # Train the model (you can replace this with your preferred AI model)\n",
    "    model = RandomForestClassifier()\n",
    "    model.fit(X_train, y_train)\n",
    "\n",
    "    # Save the trained model as an h5 file\n",
    "    joblib.dump(model, \"trained_model.h5\")\n",
    "\n",
    "    # Save the label encoders for categorical attributes as well\n",
    "    joblib.dump(label_encoders, \"label_encoders.pkl\")\n",
    "\n",
    "    print(\"Model and label encoders saved successfully.\")\n",
    "\n",
    "if __name__ == \"__main__\":\n",
    "    train_and_save_model()\n"
   ]
  },
  {
   "cell_type": "code",
   "execution_count": 3,
   "outputs": [],
   "source": [],
   "metadata": {
    "collapsed": false,
    "ExecuteTime": {
     "end_time": "2023-07-21T17:45:18.062344Z",
     "start_time": "2023-07-21T17:45:18.060671Z"
    }
   }
  },
  {
   "cell_type": "code",
   "execution_count": 3,
   "outputs": [],
   "source": [],
   "metadata": {
    "collapsed": false,
    "ExecuteTime": {
     "end_time": "2023-07-21T17:45:18.064619Z",
     "start_time": "2023-07-21T17:45:18.062789Z"
    }
   }
  }
 ],
 "metadata": {
  "kernelspec": {
   "display_name": "Python 3",
   "language": "python",
   "name": "python3"
  },
  "language_info": {
   "codemirror_mode": {
    "name": "ipython",
    "version": 2
   },
   "file_extension": ".py",
   "mimetype": "text/x-python",
   "name": "python",
   "nbconvert_exporter": "python",
   "pygments_lexer": "ipython2",
   "version": "2.7.6"
  }
 },
 "nbformat": 4,
 "nbformat_minor": 0
}
